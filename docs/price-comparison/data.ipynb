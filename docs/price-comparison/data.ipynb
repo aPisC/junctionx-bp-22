{
 "cells": [
  {
   "cell_type": "markdown",
   "metadata": {},
   "source": [
    "# Data generation"
   ]
  },
  {
   "cell_type": "markdown",
   "metadata": {},
   "source": [
    "# Source data:\n",
    "\n",
    "Eurostat purchasing power parity data - https://ec.europa.eu/eurostat/web/purchasing-power-parities/data/database\n",
    "\n",
    "Wise API - Currency conversion rates\n",
    "\n",
    "# Categories\n",
    "The country-country comparisons will be calculated for the following expense categories:\n",
    "- Alcoholic beverages & Tobacco\n",
    "- Clothing and footwear\n",
    "- Education\n",
    "- Food and non-alcoholic beverages\n",
    "- Health\n",
    "- Recreation, culture, restaurants & hotels\n",
    "- Software, communication & IT\n",
    "- Transport\n",
    "- Water, electricity, gas and other fuels"
   ]
  },
  {
   "cell_type": "code",
   "execution_count": 1,
   "metadata": {},
   "outputs": [
    {
     "ename": "AttributeError",
     "evalue": "module 'pandas' has no attribute 'Dataframe'",
     "output_type": "error",
     "traceback": [
      "\u001b[0;31m---------------------------------------------------------------------------\u001b[0m",
      "\u001b[0;31mAttributeError\u001b[0m                            Traceback (most recent call last)",
      "Cell \u001b[0;32mIn [1], line 4\u001b[0m\n\u001b[1;32m      1\u001b[0m \u001b[39mimport\u001b[39;00m \u001b[39mpandas\u001b[39;00m \u001b[39mas\u001b[39;00m \u001b[39mpd\u001b[39;00m\n\u001b[1;32m      2\u001b[0m \u001b[39mimport\u001b[39;00m \u001b[39mnumpy\u001b[39;00m \u001b[39mas\u001b[39;00m \u001b[39mnp\u001b[39;00m\n\u001b[0;32m----> 4\u001b[0m \u001b[39mimport\u001b[39;00m \u001b[39mcalc\u001b[39;00m\n\u001b[1;32m      5\u001b[0m \u001b[39mimport\u001b[39;00m \u001b[39mitertools\u001b[39;00m\n\u001b[1;32m      7\u001b[0m \u001b[39mimport\u001b[39;00m \u001b[39mjson\u001b[39;00m\n",
      "File \u001b[0;32m~/projects/junctionx-bp-22/docs/price-comparison/calc.py:105\u001b[0m\n\u001b[1;32m     96\u001b[0m     \u001b[39m# Raise error if not found\u001b[39;00m\n\u001b[1;32m     97\u001b[0m     \u001b[39mraise\u001b[39;00m \u001b[39mValueError\u001b[39;00m(\u001b[39m\"\u001b[39m\u001b[39mTarget and/or source currency exchange information doesn\u001b[39m\u001b[39m'\u001b[39m\u001b[39mt exist in data\u001b[39m\u001b[39m\"\u001b[39m)\n\u001b[1;32m    100\u001b[0m \u001b[39mdef\u001b[39;00m \u001b[39mmaster_calculator\u001b[39m(source_id: \u001b[39mstr\u001b[39m,\n\u001b[1;32m    101\u001b[0m                       target_id: \u001b[39mstr\u001b[39m,\n\u001b[1;32m    102\u001b[0m                       category: \u001b[39mstr\u001b[39m,\n\u001b[1;32m    103\u001b[0m                       currencies_by_country: \u001b[39mdict\u001b[39m,\n\u001b[1;32m    104\u001b[0m                       exchange_rate_info: \u001b[39mlist\u001b[39m,\n\u001b[0;32m--> 105\u001b[0m                       country_category_ppp_data: pd\u001b[39m.\u001b[39;49mDataframe) \u001b[39m-\u001b[39m\u001b[39m>\u001b[39m \u001b[39mfloat\u001b[39m:\n\u001b[1;32m    106\u001b[0m     \u001b[39m\"\"\"\u001b[39;00m\n\u001b[1;32m    107\u001b[0m \u001b[39m    Function to calculate living costs in different countries\u001b[39;00m\n\u001b[1;32m    108\u001b[0m \u001b[39m    \u001b[39;00m\n\u001b[0;32m   (...)\u001b[0m\n\u001b[1;32m    128\u001b[0m \u001b[39m    price_ratio < 1: home country cheaper\u001b[39;00m\n\u001b[1;32m    129\u001b[0m \u001b[39m    \"\"\"\u001b[39;00m\n\u001b[1;32m    131\u001b[0m     \u001b[39m# Retrieve PPP values\u001b[39;00m\n",
      "File \u001b[0;32m~/.cache/pypoetry/virtualenvs/junctionx-bp-22-WQG2lCOb-py3.8/lib/python3.8/site-packages/pandas/__init__.py:264\u001b[0m, in \u001b[0;36m__getattr__\u001b[0;34m(name)\u001b[0m\n\u001b[1;32m    260\u001b[0m     \u001b[39mfrom\u001b[39;00m \u001b[39mpandas\u001b[39;00m\u001b[39m.\u001b[39;00m\u001b[39mcore\u001b[39;00m\u001b[39m.\u001b[39;00m\u001b[39marrays\u001b[39;00m\u001b[39m.\u001b[39;00m\u001b[39msparse\u001b[39;00m \u001b[39mimport\u001b[39;00m SparseArray \u001b[39mas\u001b[39;00m _SparseArray\n\u001b[1;32m    262\u001b[0m     \u001b[39mreturn\u001b[39;00m _SparseArray\n\u001b[0;32m--> 264\u001b[0m \u001b[39mraise\u001b[39;00m \u001b[39mAttributeError\u001b[39;00m(\u001b[39mf\u001b[39m\u001b[39m\"\u001b[39m\u001b[39mmodule \u001b[39m\u001b[39m'\u001b[39m\u001b[39mpandas\u001b[39m\u001b[39m'\u001b[39m\u001b[39m has no attribute \u001b[39m\u001b[39m'\u001b[39m\u001b[39m{\u001b[39;00mname\u001b[39m}\u001b[39;00m\u001b[39m'\u001b[39m\u001b[39m\"\u001b[39m)\n",
      "\u001b[0;31mAttributeError\u001b[0m: module 'pandas' has no attribute 'Dataframe'"
     ]
    }
   ],
   "source": [
    "import pandas as pd\n",
    "import numpy as np\n",
    "\n",
    "import calc\n",
    "import itertools\n",
    "\n",
    "import json"
   ]
  },
  {
   "cell_type": "code",
   "execution_count": 6,
   "metadata": {},
   "outputs": [],
   "source": [
    "data_filelocation = \"prc_ppp_ind_1_Data.csv\"\n",
    "currency_rate_filelocation = \"rates.json\"\n",
    "supported_countries = {\n",
    "    \"Austria\": \"at\",\n",
    "    \"Denmark\": \"dk\",\n",
    "    \"France\": \"fr\",\n",
    "    \"Germany (until 1990 former territory of the FRG)\": \"de\",\n",
    "    \"Hungary\": \"hu\",\n",
    "    \"Spain\": \"es\",\n",
    "    \"Sweden\": \"se\",\n",
    "}\n",
    "currencies = {\n",
    "    \"at\" : \"EUR\",\n",
    "    \"dk\" : \"DKK\",\n",
    "    \"fr\" : \"EUR\",\n",
    "    \"de\" : \"EUR\",\n",
    "    \"hu\" : \"HUF\",\n",
    "    \"es\" : \"EUR\",\n",
    "    \"se\" : \"SEK\",\n",
    "}\n",
    "category_names = {\n",
    "    \"alc-tobacco\": [\"Alcoholic beverages, tobacco and narcotics\"],\n",
    "    \"clothing\": [\"Clothing and footwear\"],\n",
    "    \"education\": [\"Education\"],\n",
    "    \"food-non-alc\": [\"Food and non-alcoholic beverages\"],\n",
    "    \"health\": [\"Health\"],\n",
    "    \"it-tech\": [\"Communication\", \"Software\", \"Audio-visual, photographic and information processing equipment\"],\n",
    "    \"leisure\": [\"Restaurants and hotels\", \"Recreation and culture\"],\n",
    "    \"transport\": [\"Transport\"],\n",
    "}"
   ]
  },
  {
   "cell_type": "code",
   "execution_count": 7,
   "metadata": {},
   "outputs": [
    {
     "ename": "NameError",
     "evalue": "name 'json' is not defined",
     "output_type": "error",
     "traceback": [
      "\u001b[0;31m---------------------------------------------------------------------------\u001b[0m",
      "\u001b[0;31mNameError\u001b[0m                                 Traceback (most recent call last)",
      "Cell \u001b[0;32mIn [7], line 4\u001b[0m\n\u001b[1;32m      1\u001b[0m df \u001b[39m=\u001b[39m pd\u001b[39m.\u001b[39mread_csv(data_filelocation, encoding\u001b[39m=\u001b[39m\u001b[39m\"\u001b[39m\u001b[39mcp1252\u001b[39m\u001b[39m\"\u001b[39m)\n\u001b[1;32m      3\u001b[0m \u001b[39mwith\u001b[39;00m \u001b[39mopen\u001b[39m(currency_rate_filelocation, \u001b[39m\"\u001b[39m\u001b[39mr\u001b[39m\u001b[39m\"\u001b[39m) \u001b[39mas\u001b[39;00m file:\n\u001b[0;32m----> 4\u001b[0m     currency_conversion_data \u001b[39m=\u001b[39m json\u001b[39m.\u001b[39mload(file)\n",
      "\u001b[0;31mNameError\u001b[0m: name 'json' is not defined"
     ]
    }
   ],
   "source": [
    "df = pd.read_csv(data_filelocation, encoding=\"cp1252\")\n",
    "\n",
    "with open(currency_rate_filelocation, \"r\") as file:\n",
    "    currency_conversion_data = json.load(file)"
   ]
  },
  {
   "cell_type": "code",
   "execution_count": 8,
   "metadata": {},
   "outputs": [
    {
     "data": {
      "text/html": [
       "<div>\n",
       "<style scoped>\n",
       "    .dataframe tbody tr th:only-of-type {\n",
       "        vertical-align: middle;\n",
       "    }\n",
       "\n",
       "    .dataframe tbody tr th {\n",
       "        vertical-align: top;\n",
       "    }\n",
       "\n",
       "    .dataframe thead th {\n",
       "        text-align: right;\n",
       "    }\n",
       "</style>\n",
       "<table border=\"1\" class=\"dataframe\">\n",
       "  <thead>\n",
       "    <tr style=\"text-align: right;\">\n",
       "      <th></th>\n",
       "      <th>PPP_CAT</th>\n",
       "      <th>Value</th>\n",
       "      <th>country_id</th>\n",
       "    </tr>\n",
       "  </thead>\n",
       "  <tbody>\n",
       "    <tr>\n",
       "      <th>48</th>\n",
       "      <td>Food and non-alcoholic beverages</td>\n",
       "      <td>8.92214</td>\n",
       "      <td>dk</td>\n",
       "    </tr>\n",
       "    <tr>\n",
       "      <th>49</th>\n",
       "      <td>Alcoholic beverages, tobacco and narcotics</td>\n",
       "      <td>9.95311</td>\n",
       "      <td>dk</td>\n",
       "    </tr>\n",
       "    <tr>\n",
       "      <th>50</th>\n",
       "      <td>Clothing and footwear</td>\n",
       "      <td>9.92872</td>\n",
       "      <td>dk</td>\n",
       "    </tr>\n",
       "    <tr>\n",
       "      <th>51</th>\n",
       "      <td>Electricity, gas and other fuels</td>\n",
       "      <td>9.80323</td>\n",
       "      <td>dk</td>\n",
       "    </tr>\n",
       "    <tr>\n",
       "      <th>52</th>\n",
       "      <td>Health</td>\n",
       "      <td>11.09850</td>\n",
       "      <td>dk</td>\n",
       "    </tr>\n",
       "    <tr>\n",
       "      <th>53</th>\n",
       "      <td>Transport</td>\n",
       "      <td>9.50216</td>\n",
       "      <td>dk</td>\n",
       "    </tr>\n",
       "    <tr>\n",
       "      <th>54</th>\n",
       "      <td>Communication</td>\n",
       "      <td>7.72018</td>\n",
       "      <td>dk</td>\n",
       "    </tr>\n",
       "    <tr>\n",
       "      <th>55</th>\n",
       "      <td>Recreation and culture</td>\n",
       "      <td>10.37910</td>\n",
       "      <td>dk</td>\n",
       "    </tr>\n",
       "    <tr>\n",
       "      <th>56</th>\n",
       "      <td>Audio-visual, photographic and information pro...</td>\n",
       "      <td>7.36770</td>\n",
       "      <td>dk</td>\n",
       "    </tr>\n",
       "    <tr>\n",
       "      <th>57</th>\n",
       "      <td>Education</td>\n",
       "      <td>11.80400</td>\n",
       "      <td>dk</td>\n",
       "    </tr>\n",
       "  </tbody>\n",
       "</table>\n",
       "</div>"
      ],
      "text/plain": [
       "                                              PPP_CAT     Value country_id\n",
       "48                   Food and non-alcoholic beverages   8.92214         dk\n",
       "49         Alcoholic beverages, tobacco and narcotics   9.95311         dk\n",
       "50                              Clothing and footwear   9.92872         dk\n",
       "51                   Electricity, gas and other fuels   9.80323         dk\n",
       "52                                             Health  11.09850         dk\n",
       "53                                          Transport   9.50216         dk\n",
       "54                                      Communication   7.72018         dk\n",
       "55                             Recreation and culture  10.37910         dk\n",
       "56  Audio-visual, photographic and information pro...   7.36770         dk\n",
       "57                                          Education  11.80400         dk"
      ]
     },
     "execution_count": 8,
     "metadata": {},
     "output_type": "execute_result"
    }
   ],
   "source": [
    "# Remove countries not on supported list\n",
    "df = df[df[\"GEO\"].isin(supported_countries.keys())]\n",
    "\n",
    "# Remap country name to country_id\n",
    "df['country_id'] = df['GEO'].map(supported_countries)\n",
    "\n",
    "# Keep only columns I need\n",
    "df.drop(columns=[\"TIME\", \"GEO\", \"NA_ITEM\"], inplace=True)\n",
    "\n",
    "# Convert Value to float\n",
    "df[\"Value\"] = df[\"Value\"].astype(float)\n",
    "\n",
    "df.head(10)"
   ]
  },
  {
   "cell_type": "code",
   "execution_count": 9,
   "metadata": {},
   "outputs": [
    {
     "ename": "NameError",
     "evalue": "name 'calc' is not defined",
     "output_type": "error",
     "traceback": [
      "\u001b[0;31m---------------------------------------------------------------------------\u001b[0m",
      "\u001b[0;31mNameError\u001b[0m                                 Traceback (most recent call last)",
      "Cell \u001b[0;32mIn [9], line 13\u001b[0m\n\u001b[1;32m      9\u001b[0m     value \u001b[39m=\u001b[39m temp_df[\u001b[39m\"\u001b[39m\u001b[39mValue\u001b[39m\u001b[39m\"\u001b[39m]\u001b[39m.\u001b[39miloc[\u001b[39m0\u001b[39m]\n\u001b[1;32m     11\u001b[0m \u001b[39m# If result contains mutiple things, call calculation\u001b[39;00m\n\u001b[1;32m     12\u001b[0m \u001b[39melse\u001b[39;00m:\n\u001b[0;32m---> 13\u001b[0m     value \u001b[39m=\u001b[39m calc\u001b[39m.\u001b[39mcalc_category_index(temp_df[\u001b[39m\"\u001b[39m\u001b[39mValue\u001b[39m\u001b[39m\"\u001b[39m]\u001b[39m.\u001b[39miloc[:])\n\u001b[1;32m     15\u001b[0m df_ppp\u001b[39m.\u001b[39mloc[\u001b[39mlen\u001b[39m(df_ppp)] \u001b[39m=\u001b[39m [country_id, category, value]\n",
      "\u001b[0;31mNameError\u001b[0m: name 'calc' is not defined"
     ]
    }
   ],
   "source": [
    "df_ppp = pd.DataFrame(columns=[\"country_id\", \"category\", \"value\"])\n",
    "\n",
    "for _, country_id in supported_countries.items():\n",
    "    for category, subcategory_list in category_names.items():\n",
    "        temp_df = df[(df[\"country_id\"] == country_id) & (df[\"PPP_CAT\"].isin(subcategory_list))]\n",
    "\n",
    "        # If result has just 1 row, just get top value\n",
    "        if len(subcategory_list) == 1:\n",
    "            value = temp_df[\"Value\"].iloc[0]\n",
    "        \n",
    "        # If result contains mutiple things, call calculation\n",
    "        else:\n",
    "            value = calc.calc_category_index(temp_df[\"Value\"].iloc[:])\n",
    "        \n",
    "        df_ppp.loc[len(df_ppp)] = [country_id, category, value]"
   ]
  },
  {
   "cell_type": "code",
   "execution_count": null,
   "metadata": {},
   "outputs": [],
   "source": [
    "df_ppp.head(10)"
   ]
  },
  {
   "cell_type": "code",
   "execution_count": null,
   "metadata": {},
   "outputs": [],
   "source": [
    "out_df = pd.DataFrame(columns=[\"From\", \"To\", \"Category\"])\n",
    "\n",
    "# Create all country to-from combination for outdf\n",
    "countries = currencies.keys()\n",
    "countryCombinations = []\n",
    "\n",
    "for combination in itertools.permutations(countries, 2):\n",
    "    for category in category_names.keys():\n",
    "        out_df.loc[len(out_df)] = [combination[0], combination[1], category]\n",
    "\n",
    "out_df"
   ]
  },
  {
   "cell_type": "code",
   "execution_count": null,
   "metadata": {},
   "outputs": [],
   "source": [
    "# Get currency data for countries\n",
    "out_df[\"ratio\"] = out_df.apply(lambda row: \n",
    "    calc.master_calculator(\n",
    "        row[\"From\"],\n",
    "        row[\"To\"],\n",
    "        row[\"Category\"],\n",
    "        currencies,\n",
    "        currency_conversion_data,\n",
    "        df_ppp)\n",
    "    , axis=1)"
   ]
  }
 ],
 "metadata": {
  "kernelspec": {
   "display_name": "Python 3.8.10 ('junctionx-bp-22-WQG2lCOb-py3.8')",
   "language": "python",
   "name": "python3"
  },
  "language_info": {
   "codemirror_mode": {
    "name": "ipython",
    "version": 3
   },
   "file_extension": ".py",
   "mimetype": "text/x-python",
   "name": "python",
   "nbconvert_exporter": "python",
   "pygments_lexer": "ipython3",
   "version": "3.8.10"
  },
  "orig_nbformat": 4,
  "vscode": {
   "interpreter": {
    "hash": "b5edf4e243385f166379c91ce17dcb6039715713e779428801cc81d04df6469e"
   }
  }
 },
 "nbformat": 4,
 "nbformat_minor": 2
}
