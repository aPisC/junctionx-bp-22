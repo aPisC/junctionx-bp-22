{
 "cells": [
  {
   "cell_type": "markdown",
   "metadata": {},
   "source": [
    "# Data generation"
   ]
  },
  {
   "cell_type": "markdown",
   "metadata": {},
   "source": [
    "# Source data:\n",
    "\n",
    "Eurostat purchasing power parity data - https://ec.europa.eu/eurostat/web/purchasing-power-parities/data/database\n",
    "\n",
    "Wise API - Currency conversion rates\n",
    "\n",
    "# Categories\n",
    "The country-country comparisons will be calculated for the following expense categories:\n",
    "- Alcoholic beverages & Tobacco\n",
    "- Clothing and footwear\n",
    "- Education\n",
    "- Food and non-alcoholic beverages\n",
    "- Health\n",
    "- Recreation, culture, restaurants & hotels\n",
    "- Software, communication & IT\n",
    "- Transport\n",
    "- Water, electricity, gas and other fuels"
   ]
  },
  {
   "cell_type": "code",
   "execution_count": null,
   "metadata": {},
   "outputs": [],
   "source": [
    "import pandas as pd\n",
    "import numpy as np\n",
    "\n",
    "import calc\n",
    "import itertools\n",
    "\n",
    "import json"
   ]
  },
  {
   "cell_type": "code",
   "execution_count": null,
   "metadata": {},
   "outputs": [],
   "source": [
    "data_filelocation = \"prc_ppp_ind_1_Data.csv\"\n",
    "currency_rate_filelocation = \"rates.json\"\n",
    "output_table_filelocation = \"ppp_indices.csv\"\n",
    "supported_countries = {\n",
    "    \"Austria\": \"at\",\n",
    "    \"Denmark\": \"dk\",\n",
    "    \"France\": \"fr\",\n",
    "    \"Germany (until 1990 former territory of the FRG)\": \"de\",\n",
    "    \"Hungary\": \"hu\",\n",
    "    \"Spain\": \"es\",\n",
    "    \"Sweden\": \"se\",\n",
    "}\n",
    "currencies = {\n",
    "    \"at\" : \"EUR\",\n",
    "    \"dk\" : \"DKK\",\n",
    "    \"fr\" : \"EUR\",\n",
    "    \"de\" : \"EUR\",\n",
    "    \"hu\" : \"HUF\",\n",
    "    \"es\" : \"EUR\",\n",
    "    \"se\" : \"SEK\",\n",
    "}\n",
    "category_names = {\n",
    "    \"alc-tobacco\": [\"Alcoholic beverages, tobacco and narcotics\"],\n",
    "    \"clothing\": [\"Clothing and footwear\"],\n",
    "    \"education\": [\"Education\"],\n",
    "    \"food-non-alc\": [\"Food and non-alcoholic beverages\"],\n",
    "    \"health\": [\"Health\"],\n",
    "    \"it-tech\": [\"Communication\", \"Software\", \"Audio-visual, photographic and information processing equipment\"],\n",
    "    \"leisure\": [\"Restaurants and hotels\", \"Recreation and culture\"],\n",
    "    \"transport\": [\"Transport\"],\n",
    "}"
   ]
  },
  {
   "cell_type": "code",
   "execution_count": null,
   "metadata": {},
   "outputs": [],
   "source": [
    "df = pd.read_csv(data_filelocation, encoding=\"cp1252\")\n",
    "\n",
    "with open(currency_rate_filelocation, \"r\") as file:\n",
    "    currency_conversion_data = json.load(file)"
   ]
  },
  {
   "cell_type": "code",
   "execution_count": null,
   "metadata": {},
   "outputs": [],
   "source": [
    "# Remove countries not on supported list\n",
    "df = df[df[\"GEO\"].isin(supported_countries.keys())]\n",
    "\n",
    "# Remap country name to country_id\n",
    "df['country_id'] = df['GEO'].map(supported_countries)\n",
    "\n",
    "# Keep only columns I need\n",
    "df.drop(columns=[\"TIME\", \"GEO\", \"NA_ITEM\"], inplace=True)\n",
    "\n",
    "# Convert Value to float\n",
    "df[\"Value\"] = df[\"Value\"].astype(float)\n",
    "\n",
    "df.head(10)"
   ]
  },
  {
   "cell_type": "code",
   "execution_count": null,
   "metadata": {},
   "outputs": [],
   "source": [
    "df_ppp = pd.DataFrame(columns=[\"country_id\", \"category\", \"value\"])\n",
    "\n",
    "for _, country_id in supported_countries.items():\n",
    "    for category, subcategory_list in category_names.items():\n",
    "        temp_df = df[(df[\"country_id\"] == country_id) & (df[\"PPP_CAT\"].isin(subcategory_list))]\n",
    "\n",
    "        # If result has just 1 row, just get top value\n",
    "        if len(subcategory_list) == 1:\n",
    "            value = temp_df[\"Value\"].iloc[0]\n",
    "        \n",
    "        # If result contains mutiple things, call calculation\n",
    "        else:\n",
    "            value = calc.calc_category_index(temp_df[\"Value\"].iloc[:])\n",
    "        \n",
    "        df_ppp.loc[len(df_ppp)] = [country_id, category, value]"
   ]
  },
  {
   "cell_type": "code",
   "execution_count": null,
   "metadata": {},
   "outputs": [],
   "source": [
    "df_ppp.head(10)"
   ]
  },
  {
   "cell_type": "code",
   "execution_count": null,
   "metadata": {},
   "outputs": [],
   "source": [
    "out_df = pd.DataFrame(columns=[\"From\", \"To\", \"Category\"])\n",
    "\n",
    "# Create all country to-from combination for outdf\n",
    "countries = currencies.keys()\n",
    "countryCombinations = []\n",
    "\n",
    "for combination in itertools.permutations(countries, 2):\n",
    "    for category in category_names.keys():\n",
    "        out_df.loc[len(out_df)] = [combination[0], combination[1], category]\n",
    "\n",
    "out_df"
   ]
  },
  {
   "cell_type": "code",
   "execution_count": null,
   "metadata": {},
   "outputs": [],
   "source": [
    "# Get currency data for countries\n",
    "out_df[\"Ratio\"] = out_df.apply(lambda row: \n",
    "    calc.master_calculator(\n",
    "        row[\"From\"],\n",
    "        row[\"To\"],\n",
    "        row[\"Category\"],\n",
    "        currencies,\n",
    "        currency_conversion_data,\n",
    "        df_ppp)\n",
    "    , axis=1)"
   ]
  },
  {
   "cell_type": "code",
   "execution_count": null,
   "metadata": {},
   "outputs": [],
   "source": [
    "out_df.to_csv(output_table_filelocation)"
   ]
  },
  {
   "cell_type": "code",
   "execution_count": null,
   "metadata": {},
   "outputs": [],
   "source": [
    "out_df.head()\n",
    "out_df[\"Ratio\"].min()"
   ]
  }
 ],
 "metadata": {
  "kernelspec": {
   "display_name": "Python 3.8.10 ('junctionx-bp-22-WQG2lCOb-py3.8')",
   "language": "python",
   "name": "python3"
  },
  "language_info": {
   "codemirror_mode": {
    "name": "ipython",
    "version": 3
   },
   "file_extension": ".py",
   "mimetype": "text/x-python",
   "name": "python",
   "nbconvert_exporter": "python",
   "pygments_lexer": "ipython3",
   "version": "3.8.10"
  },
  "orig_nbformat": 4,
  "vscode": {
   "interpreter": {
    "hash": "b5edf4e243385f166379c91ce17dcb6039715713e779428801cc81d04df6469e"
   }
  }
 },
 "nbformat": 4,
 "nbformat_minor": 2
}
